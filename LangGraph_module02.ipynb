{
  "nbformat": 4,
  "nbformat_minor": 0,
  "metadata": {
    "colab": {
      "provenance": [],
      "authorship_tag": "ABX9TyNiFfLv++ZIEno8YwI3L8Nw"
    },
    "kernelspec": {
      "name": "python3",
      "display_name": "Python 3"
    },
    "language_info": {
      "name": "python"
    }
  },
  "cells": [
    {
      "cell_type": "code",
      "execution_count": 37,
      "metadata": {
        "id": "F8Jz5QOMTgGa",
        "collapsed": true
      },
      "outputs": [],
      "source": [
        "!pip install -q langchain_google_genai langchain_core langchain_community langgraph langsmith"
      ]
    },
    {
      "cell_type": "code",
      "source": [
        "from langchain_google_genai import ChatGoogleGenerativeAI\n",
        "\n",
        "from google.colab import userdata\n",
        "GOOGLE_API_KEY = userdata.get('GOOGLE_API_KEY')\n",
        "llm = ChatGoogleGenerativeAI(\n",
        "    model=\"gemini-1.5-flash\",\n",
        "    api_key=GOOGLE_API_KEY,\n",
        "    temperature=0\n",
        ")\n"
      ],
      "metadata": {
        "id": "7ib0VghbT9pF"
      },
      "execution_count": 38,
      "outputs": []
    },
    {
      "cell_type": "code",
      "source": [
        "result  = llm.invoke(\"Difference betwen langgraph and crewai?\")\n",
        "print(result)"
      ],
      "metadata": {
        "colab": {
          "base_uri": "https://localhost:8080/"
        },
        "id": "4zMStN8EUCOS",
        "outputId": "71780d5a-49d8-4b24-bce3-a82afa1ea283"
      },
      "execution_count": 39,
      "outputs": [
        {
          "output_type": "stream",
          "name": "stdout",
          "text": [
            "content=\"LangChain and CrewAI are both platforms that leverage large language models (LLMs), but they cater to different needs and have distinct approaches:\\n\\n**LangChain:**\\n\\n* **Focus:**  Building applications *with* LLMs.  It's a framework for developing applications that incorporate LLMs as a core component.  Think of it as a toolbox for connecting LLMs to other data sources and functionalities.\\n* **Functionality:** Provides modular components for connecting LLMs to various data sources (databases, APIs, files), managing chains of prompts and actions, and memory management for maintaining context across interactions.  It emphasizes building complex, multi-step applications.\\n* **Abstraction Level:** Lower-level. You have more control over the individual components and how they interact.  Requires more coding and understanding of the underlying architecture.\\n* **Use Cases:** Building custom LLM-powered applications, integrating LLMs into existing workflows, creating complex conversational agents, and automating tasks.\\n* **Ease of Use:** Steeper learning curve. Requires programming skills.\\n\\n\\n**CrewAI:**\\n\\n* **Focus:**  Building and deploying *LLM-powered applications* more easily and quickly. It's a platform that simplifies the process of creating and deploying applications, often abstracting away much of the underlying LLM complexity.\\n* **Functionality:** Offers a more user-friendly interface for building applications, often with visual tools and pre-built components.  It might handle things like prompt engineering, model selection, and deployment automatically.\\n* **Abstraction Level:** Higher-level.  It aims to simplify the development process, hiding much of the technical details from the user.  Less coding is typically required.\\n* **Use Cases:** Rapid prototyping of LLM applications, building applications without extensive coding knowledge, deploying applications easily.\\n* **Ease of Use:** Easier to learn and use, especially for non-programmers.\\n\\n\\n**In short:**\\n\\nLangChain is like a powerful engine that gives you complete control over building your LLM application, but requires more technical expertise. CrewAI is more like a pre-built car, easier to drive and get going quickly, but with less customization.  The best choice depends on your technical skills and the complexity of the application you want to build.  If you need fine-grained control and are comfortable with coding, LangChain is a better fit. If you prioritize speed and ease of development, CrewAI might be more suitable.\" additional_kwargs={} response_metadata={'prompt_feedback': {'block_reason': 0, 'safety_ratings': []}, 'finish_reason': 'STOP', 'safety_ratings': []} id='run-fb5ccae2-8a4a-497f-a9de-88a8ede82178-0' usage_metadata={'input_tokens': 9, 'output_tokens': 503, 'total_tokens': 512, 'input_token_details': {'cache_read': 0}}\n"
          ]
        }
      ]
    },
    {
      "cell_type": "code",
      "source": [
        "# humanmessage way of talking with chatmodel\n",
        "\n",
        "from langchain_core.messages import AIMessage\n",
        "ai_message : AIMessage = llm.invoke(\"hi\")"
      ],
      "metadata": {
        "id": "RYHfJd1MVEQS"
      },
      "execution_count": 40,
      "outputs": []
    },
    {
      "cell_type": "code",
      "source": [
        "print(ai_message.content)"
      ],
      "metadata": {
        "colab": {
          "base_uri": "https://localhost:8080/"
        },
        "id": "zFFf1EB-oaJ2",
        "outputId": "87dddd86-7164-4f5d-d07f-0662932779b3"
      },
      "execution_count": 41,
      "outputs": [
        {
          "output_type": "stream",
          "name": "stdout",
          "text": [
            "Hi there! How can I help you today?\n"
          ]
        }
      ]
    },
    {
      "cell_type": "code",
      "source": [
        "from typing_extensions import TypedDict\n",
        "\n",
        "class firstllmagent(TypedDict):\n",
        "  prompt:str\n",
        "  output:str"
      ],
      "metadata": {
        "id": "QTv_RUc_odxQ"
      },
      "execution_count": 42,
      "outputs": []
    },
    {
      "cell_type": "code",
      "source": [
        "\n",
        "def node1(state: firstllmagent):\n",
        "  print('node1',state)\n",
        "  prompt = state['prompt']\n",
        "  ai_message:AIMessage = llm.invoke(prompt)\n",
        "  return {'output':ai_message.content}\n",
        "\n"
      ],
      "metadata": {
        "id": "4yDzQbxYot55"
      },
      "execution_count": 43,
      "outputs": []
    },
    {
      "cell_type": "code",
      "source": [
        "node1(firstllmagent(prompt='hi how are you?'))"
      ],
      "metadata": {
        "colab": {
          "base_uri": "https://localhost:8080/"
        },
        "id": "_dnrzU34pMUX",
        "outputId": "471c8d4d-d199-4d74-cf30-af41e9f0b07f"
      },
      "execution_count": 44,
      "outputs": [
        {
          "output_type": "stream",
          "name": "stdout",
          "text": [
            "node1 {'prompt': 'hi how are you?'}\n"
          ]
        },
        {
          "output_type": "execute_result",
          "data": {
            "text/plain": [
              "{'output': 'I am doing well, thank you for asking!  How are you today?'}"
            ]
          },
          "metadata": {},
          "execution_count": 44
        }
      ]
    },
    {
      "cell_type": "markdown",
      "source": [
        "#langgraph"
      ],
      "metadata": {
        "id": "LDSyuC_ErHA9"
      }
    },
    {
      "cell_type": "code",
      "source": [
        "#graph\n",
        "from IPython.display import Image, display\n",
        "from langgraph.graph.state import CompiledGraph\n",
        "from langgraph.graph import START,END,StateGraph\n",
        "\n",
        "builder:StateGraph = StateGraph(state_schema=firstllmagent)\n"
      ],
      "metadata": {
        "id": "WB3iicgvpp0p"
      },
      "execution_count": 45,
      "outputs": []
    },
    {
      "cell_type": "code",
      "source": [
        "#node\n",
        "builder.add_node('LLM_call',node1)\n"
      ],
      "metadata": {
        "colab": {
          "base_uri": "https://localhost:8080/"
        },
        "id": "_5NRuTGUqirH",
        "outputId": "269312c4-eb76-4d80-dd7a-0fc6c2469aac"
      },
      "execution_count": 46,
      "outputs": [
        {
          "output_type": "execute_result",
          "data": {
            "text/plain": [
              "<langgraph.graph.state.StateGraph at 0x7842e4f24bd0>"
            ]
          },
          "metadata": {},
          "execution_count": 46
        }
      ]
    },
    {
      "cell_type": "code",
      "source": [
        "#edges\n",
        "\n",
        "builder.add_edge(START,'LLM_call')\n",
        "builder.add_edge('LLM_call',END)"
      ],
      "metadata": {
        "colab": {
          "base_uri": "https://localhost:8080/"
        },
        "id": "sN15rLmxrMYb",
        "outputId": "3e03115d-a9ff-458d-ffdf-ecc2f4910cd1"
      },
      "execution_count": 47,
      "outputs": [
        {
          "output_type": "execute_result",
          "data": {
            "text/plain": [
              "<langgraph.graph.state.StateGraph at 0x7842e4f24bd0>"
            ]
          },
          "metadata": {},
          "execution_count": 47
        }
      ]
    },
    {
      "cell_type": "code",
      "source": [
        "#graph compile\n",
        "graph:CompiledGraph = builder.compile()"
      ],
      "metadata": {
        "id": "dh5G9Cv4rwdn"
      },
      "execution_count": 48,
      "outputs": []
    },
    {
      "cell_type": "code",
      "source": [
        "display(Image(graph.get_graph().draw_mermaid_png()))"
      ],
      "metadata": {
        "colab": {
          "base_uri": "https://localhost:8080/",
          "height": 251
        },
        "id": "L8QMhipnr3wE",
        "outputId": "7582ef28-7510-4e80-aa22-19cd301ff895"
      },
      "execution_count": 49,
      "outputs": [
        {
          "output_type": "display_data",
          "data": {
            "image/png": "[encoded data removed]",
            "text/plain": [
              "<IPython.core.display.Image object>"
            ]
          },
          "metadata": {}
        }
      ]
    },
    {
      "cell_type": "code",
      "source": [
        "respose = graph.invoke({\"prompt\":\"motive me to learn crewai\"})\n",
        "print(respose)"
      ],
      "metadata": {
        "colab": {
          "base_uri": "https://localhost:8080/"
        },
        "id": "QUDGBTxFsl1I",
        "outputId": "39c2b888-8ba9-4fa6-d094-17d8bfb8fc1f"
      },
      "execution_count": 51,
      "outputs": [
        {
          "output_type": "stream",
          "name": "stdout",
          "text": [
            "node1 {'prompt': 'motive me to learn crewai'}\n",
            "{'prompt': 'motive me to learn crewai', 'output': \"Let's talk about why you should learn CrewAI.  Forget generic motivational platitudes; let's get specific and tailor this to *your* potential gains:\\n\\n**Imagine this:**\\n\\n* **Scenario 1: You're a developer.**  CrewAI isn't just another tool; it's a potential game-changer.  Imagine streamlining your workflow, automating tedious tasks, and focusing your energy on the truly creative and challenging aspects of your projects.  Learning CrewAI means becoming more efficient, more valuable to your team, and potentially commanding higher compensation.  It's a skill that directly translates to increased productivity and career advancement.  Think less debugging, more innovation.\\n\\n* **Scenario 2: You're a business owner/entrepreneur.**  CrewAI offers the potential to automate processes, improve customer service, and gain valuable insights from your data.  This translates to cost savings, increased efficiency, and a competitive edge in the market.  Learning CrewAI means equipping yourself with a powerful tool to optimize your business operations and drive growth.  Think smarter, not harder.\\n\\n* **Scenario 3: You're a curious learner.**  CrewAI represents a fascinating intersection of AI and software development.  Learning it will expand your technical skills, expose you to cutting-edge technologies, and boost your problem-solving abilities.  It's a chance to explore a rapidly evolving field and build a valuable skillset for the future.  Think intellectual stimulation and future-proofing your career.\\n\\n**Beyond the scenarios:**\\n\\n* **Community and Support:**  Learning a new technology is easier with a supportive community.  CrewAI likely has resources and forums to help you along the way.\\n* **Future-Proofing:**  AI is the future.  Learning CrewAI positions you at the forefront of this technological revolution.\\n* **Personal Satisfaction:**  Mastering a challenging new skill is incredibly rewarding.  The sense of accomplishment you'll feel will be well worth the effort.\\n\\n\\n**So, what's stopping you?**  The initial learning curve might seem daunting, but break it down into smaller, manageable steps.  Start with the basics, celebrate your progress, and remember the potential rewards – both professional and personal – that await you.  You've got this!  Let's get started.\"}\n"
          ]
        }
      ]
    },
    {
      "cell_type": "code",
      "source": [],
      "metadata": {
        "id": "8Egc8ahRtUFJ"
      },
      "execution_count": null,
      "outputs": []
    }
  ]
}